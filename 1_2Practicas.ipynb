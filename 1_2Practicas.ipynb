{
 "cells": [
  {
   "cell_type": "markdown",
   "id": "24cddf00-6c34-4c5e-b1f0-46dc7cbf161c",
   "metadata": {},
   "source": [
    "# 1.Odd or even"
   ]
  },
  {
   "cell_type": "code",
   "execution_count": 14,
   "id": "9be47533-6250-4d36-a41a-9ddc4550a8f3",
   "metadata": {},
   "outputs": [
    {
     "name": "stdin",
     "output_type": "stream",
     "text": [
      "Enter any number between 1 and 1000:  13\n"
     ]
    },
    {
     "name": "stdout",
     "output_type": "stream",
     "text": [
      "The number is odd\n"
     ]
    }
   ],
   "source": [
    "num = int (input (\"Enter any number between 1 and 1000: \"))\n",
    "if (num % 2) == 0:\n",
    "            print (\"The number is even\")\n",
    "else:\n",
    "            print (\"The number is odd\")"
   ]
  },
  {
   "cell_type": "markdown",
   "id": "8e67acba-76b5-407f-a6da-b58de566f19a",
   "metadata": {},
   "source": [
    "# 2.Mad Libs Game"
   ]
  },
  {
   "cell_type": "code",
   "execution_count": 15,
   "id": "d5aa04bf-2112-4c90-8d6c-711d7c3d9fbd",
   "metadata": {},
   "outputs": [
    {
     "name": "stdin",
     "output_type": "stream",
     "text": [
      "Enter a celebrity:  Taylor Swift\n",
      "Enter a color:  Red\n",
      "Enter a Singular Noun:  cat\n"
     ]
    },
    {
     "name": "stdout",
     "output_type": "stream",
     "text": [
      "I love Taylor Swift\n",
      "Loving him was Red\n",
      "Karma is a cat\n"
     ]
    }
   ],
   "source": [
    "celebrity = input(\"Enter a celebrity: \")\n",
    "color = input(\"Enter a color: \")\n",
    "singNoun = input(\"Enter a Singular Noun: \")\n",
    "\n",
    "print(\"I love \" + celebrity)\n",
    "print(\"Loving him was \" + color)\n",
    "print(\"Karma is a \" + singNoun)"
   ]
  },
  {
   "cell_type": "markdown",
   "id": "ec685792-4753-4daa-91a1-96e5f725336d",
   "metadata": {},
   "source": [
    "# 3.Word Count"
   ]
  },
  {
   "cell_type": "code",
   "execution_count": 16,
   "id": "ba8a5eea-76cc-4493-831d-e4ce3683f0db",
   "metadata": {},
   "outputs": [
    {
     "name": "stdin",
     "output_type": "stream",
     "text": [
      "Ingresa una oracion: Ya casi es navidad\n"
     ]
    },
    {
     "name": "stdout",
     "output_type": "stream",
     "text": [
      "Las palabras contadas en la oracion fueron: 4\n"
     ]
    }
   ],
   "source": [
    "countOfWords = len(input(\"Ingresa una oracion:\").split())\n",
    "print(\"Las palabras contadas en la oracion fueron:\", countOfWords)"
   ]
  },
  {
   "cell_type": "markdown",
   "id": "9f5ca761-14e9-47b4-bed1-49cf4be49775",
   "metadata": {},
   "source": [
    "# 4.Biography info"
   ]
  },
  {
   "cell_type": "code",
   "execution_count": 17,
   "id": "88e2cae4-8cd9-4833-8904-9bbd7e7e3746",
   "metadata": {},
   "outputs": [
    {
     "name": "stdin",
     "output_type": "stream",
     "text": [
      "Escribe tu nombre:  Gerardo\n",
      "Escribe tu fecha de nacimiento:  05-02-2001\n",
      "Escribe tu direccion:  Francisco Villa Tijuana\n",
      "Escribe tus metas personales:  Terminar la uni\n"
     ]
    },
    {
     "name": "stdout",
     "output_type": "stream",
     "text": [
      "Nombre: Gerardo\n",
      "Fecha de nacimiento: 05-02-2001\n",
      "Direccion: Francisco Villa Tijuana\n",
      "Metas personales: Terminar la uni\n"
     ]
    }
   ],
   "source": [
    "nombre = input(\"Escribe tu nombre: \")\n",
    "while not nombre.isalpha():\n",
    "    print(\"No es un nombre valido, escribelo de nuevo\")\n",
    "    nombre = input(\"Escribe tu nombre: \")\n",
    "fechanac = input(\"Escribe tu fecha de nacimiento: \")\n",
    "direccion = input(\"Escribe tu direccion: \")\n",
    "metas = input(\"Escribe tus metas personales: \")\n",
    "\n",
    "print(\"Nombre: \" + nombre)\n",
    "print(\"Fecha de nacimiento: \" + fechanac)\n",
    "print(\"Direccion: \" + direccion)\n",
    "print(\"Metas personales: \" + metas)"
   ]
  },
  {
   "cell_type": "markdown",
   "id": "b0122d50-d9e8-4ba7-8527-16df7dc4b496",
   "metadata": {},
   "source": [
    "# 5.What's my acronym?"
   ]
  },
  {
   "cell_type": "code",
   "execution_count": 18,
   "id": "4d20a7ba-c245-4ba6-9eb4-4e1d2cba6b07",
   "metadata": {},
   "outputs": [
    {
     "name": "stdin",
     "output_type": "stream",
     "text": [
      "Escribe tu nombre completo:  Gerardo Kim Estrada\n"
     ]
    },
    {
     "name": "stdout",
     "output_type": "stream",
     "text": [
      " GKE\n"
     ]
    }
   ],
   "source": [
    "user_input = str(input(\"Escribe tu nombre completo: \"))\n",
    "text = user_input.split()\n",
    "a = \" \"\n",
    "for i in text:\n",
    "    a = a+str(i[0]).upper()\n",
    "print(a)"
   ]
  },
  {
   "cell_type": "markdown",
   "id": "eaeb2f40-932a-4a0a-b664-457254381636",
   "metadata": {},
   "source": [
    "# 6.Rock, Paper, Scissors"
   ]
  },
  {
   "cell_type": "code",
   "execution_count": null,
   "id": "726a7e62-ef39-454e-be3f-5317df26f0e7",
   "metadata": {},
   "outputs": [
    {
     "name": "stdout",
     "output_type": "stream",
     "text": [
      "Bienvenido al juego de Piedra, Papel o Tijeras\n",
      "\n"
     ]
    },
    {
     "name": "stdin",
     "output_type": "stream",
     "text": [
      "Tu eleccion:  piedra\n"
     ]
    },
    {
     "name": "stdout",
     "output_type": "stream",
     "text": [
      "Eleccion de la computadora: piedra\n",
      "Empate\n",
      "Bienvenido al juego de Piedra, Papel o Tijeras\n",
      "\n"
     ]
    },
    {
     "name": "stdin",
     "output_type": "stream",
     "text": [
      "Tu eleccion:  papel\n"
     ]
    },
    {
     "name": "stdout",
     "output_type": "stream",
     "text": [
      "Eleccion de la computadora: papel\n",
      "Empate\n",
      "Bienvenido al juego de Piedra, Papel o Tijeras\n",
      "\n"
     ]
    },
    {
     "name": "stdin",
     "output_type": "stream",
     "text": [
      "Tu eleccion:  tijeras\n"
     ]
    },
    {
     "name": "stdout",
     "output_type": "stream",
     "text": [
      "Eleccion de la computadora: papel\n",
      "Jugador gana\n",
      "Bienvenido al juego de Piedra, Papel o Tijeras\n",
      "\n"
     ]
    }
   ],
   "source": [
    "from random import randint\n",
    " \n",
    "choice = [\"piedra\",\"papel\",\"tijeras\"]\n",
    "def main():\n",
    "    computer = choice[randint(0,2)]\n",
    " \n",
    "    print(\"Bienvenido al juego de Piedra, Papel o Tijeras\\n\")\n",
    "    player = input(\"Tu eleccion: \").lower()\n",
    "    print(\"Eleccion de la computadora: \" + computer)\n",
    " \n",
    "    if player == computer:\n",
    "        print(\"Empate\")\n",
    "    elif player == \"piedra\" and computer == \"papel\":\n",
    "        print(\"Computadora gana\")\n",
    "    elif player == \"piedra\" and computer == \"tijeras\":\n",
    "        print(\"Jugador gana\")\n",
    "    elif player == \"papel\" and computer == \"piedra\":\n",
    "        print(\"Jugador gana\")\n",
    "    elif player == \"papel\" and computer == \"tijeras\":\n",
    "        print(\"Computadora gana\")\n",
    "    elif player == \"tijeras\" and computer  == \"piedra\":\n",
    "        print(\"Computadora gana\")\n",
    "    elif player == \"tijeras\" and computer == \"papel\":\n",
    "        print(\"Jugador gana\")\n",
    "    elif player == \"fin\":\n",
    "        StopIteration\n",
    " \n",
    "    main()\n",
    " \n",
    "main()"
   ]
  },
  {
   "cell_type": "markdown",
   "id": "edee5a84-e11d-40d2-a57b-3bbc5d5923ce",
   "metadata": {},
   "source": [
    "# 7.Guess the number"
   ]
  },
  {
   "cell_type": "code",
   "execution_count": 22,
   "id": "6f6138cc-14b3-419f-9d67-6b218cad4ede",
   "metadata": {},
   "outputs": [
    {
     "name": "stdin",
     "output_type": "stream",
     "text": [
      "Adivina un numero entre 1 y 50:  25\n"
     ]
    },
    {
     "name": "stdout",
     "output_type": "stream",
     "text": [
      "Trata de adivinar mas bajo.Intentalo de nuevo\n"
     ]
    },
    {
     "name": "stdin",
     "output_type": "stream",
     "text": [
      "\n",
      "Adivina un numero entre 1 y 50:  20\n"
     ]
    },
    {
     "name": "stdout",
     "output_type": "stream",
     "text": [
      "Trata de adivinar mas bajo.Intentalo de nuevo\n"
     ]
    },
    {
     "name": "stdin",
     "output_type": "stream",
     "text": [
      "\n",
      "Adivina un numero entre 1 y 50:  15\n"
     ]
    },
    {
     "name": "stdout",
     "output_type": "stream",
     "text": [
      "Trata de adivinar mas bajo.Intentalo de nuevo\n"
     ]
    },
    {
     "name": "stdin",
     "output_type": "stream",
     "text": [
      "\n",
      "Adivina un numero entre 1 y 50:  10\n"
     ]
    },
    {
     "name": "stdout",
     "output_type": "stream",
     "text": [
      "Trata de adivinar mas bajo.Intentalo de nuevo\n"
     ]
    },
    {
     "name": "stdin",
     "output_type": "stream",
     "text": [
      "\n",
      "Adivina un numero entre 1 y 50:  5\n"
     ]
    },
    {
     "name": "stdout",
     "output_type": "stream",
     "text": [
      "Trata de adivinar mas alto.Intentalo de nuevo\n"
     ]
    },
    {
     "name": "stdin",
     "output_type": "stream",
     "text": [
      "Adivina un numero entre 1 y 50:  8\n"
     ]
    },
    {
     "name": "stdout",
     "output_type": "stream",
     "text": [
      "Trata de adivinar mas bajo.Intentalo de nuevo\n"
     ]
    },
    {
     "name": "stdin",
     "output_type": "stream",
     "text": [
      "\n",
      "Adivina un numero entre 1 y 50:  7\n"
     ]
    },
    {
     "name": "stdout",
     "output_type": "stream",
     "text": [
      "Adivinaste el numero correctamente\n"
     ]
    }
   ],
   "source": [
    "import random\n",
    "\n",
    "number = random.randrange(1,50)\n",
    "guess = int(input(\"Adivina un numero entre 1 y 50: \"))\n",
    "\n",
    "while guess != number:\n",
    "    if guess < number:\n",
    "        print(\"Trata de adivinar mas alto.Intentalo de nuevo\")\n",
    "        guess = int(input(\"Adivina un numero entre 1 y 50: \"))\n",
    "    else:\n",
    "        print(\"Trata de adivinar mas bajo.Intentalo de nuevo\")\n",
    "        guess = int(input(\"\\nAdivina un numero entre 1 y 50: \"))\n",
    "      \n",
    "print(\"Adivinaste el numero correctamente\")"
   ]
  },
  {
   "cell_type": "markdown",
   "id": "b97b6a9f-2e58-4cf6-82b3-2c9676c951e3",
   "metadata": {},
   "source": [
    "# 8.Is a palindrome"
   ]
  },
  {
   "cell_type": "code",
   "execution_count": 3,
   "id": "638d6212-9b82-4041-900f-525c04e44725",
   "metadata": {},
   "outputs": [
    {
     "name": "stdout",
     "output_type": "stream",
     "text": [
      "\n",
      "Palindrome checker\n"
     ]
    },
    {
     "name": "stdin",
     "output_type": "stream",
     "text": [
      "\n",
      "Ingresa una palabra,frase u oracion\n",
      "para verificar si es un palindromo:  madam\n"
     ]
    },
    {
     "name": "stdout",
     "output_type": "stream",
     "text": [
      "El texto ingresado es un palindromo!\n"
     ]
    }
   ],
   "source": [
    "def convertInputString():\n",
    "    rawInput = input(\"\\nIngresa una palabra,frase u oracion\"+\n",
    "    \"\\npara verificar si es un palindromo: \") \n",
    "    rawString = rawInput.lower() \n",
    "    rawList = list(rawString) \n",
    "    return rawList\n",
    "\n",
    "def stripAnalphabetics(dirtyList): \n",
    "    analphabeticList = [\" \", \"-\", \".\", \",\", \":\", \";\", \"!\", \"?\", \"'\", \"\\\"\"] \n",
    "    for character in analphabeticList: \n",
    "        if character in dirtyList: \n",
    "            dirtyList.remove(character) \n",
    "            return stripAnalphabetics(dirtyList)\n",
    "    return dirtyList \n",
    "\n",
    "def runPalindromeCheck(straightList):\n",
    "    reversedList = straightList[::-1] \n",
    "    if reversedList == straightList: \n",
    "        return \"El texto ingresado es un palindromo!\" \n",
    "    else: \n",
    "        return \"El texto ingresado no es un palindromo\" \n",
    "\n",
    "def main(): \n",
    "    print(\"\\nPalindrome checker\") \n",
    "    originalList = convertInputString()  \n",
    "    originalList = stripAnalphabetics(originalList) \n",
    "    palindromeCheck = runPalindromeCheck(originalList)\n",
    "    print(palindromeCheck)\n",
    "\n",
    "main() "
   ]
  },
  {
   "cell_type": "markdown",
   "id": "dfe8c6af-16a2-4f57-8952-ea78fc6c0b3e",
   "metadata": {},
   "source": [
    "# 9.Calculate the tip"
   ]
  },
  {
   "cell_type": "code",
   "execution_count": 21,
   "id": "6c8f94b1-88bd-48a5-b99c-f544e8ae0f4f",
   "metadata": {},
   "outputs": [
    {
     "name": "stdin",
     "output_type": "stream",
     "text": [
      "Escribe el total de la comida:  500\n",
      "Escribe el porcentaje de propina:  15\n"
     ]
    },
    {
     "name": "stdout",
     "output_type": "stream",
     "text": [
      "El total de tu comida fue $500.0 y la propina fue de $75.0.\n"
     ]
    }
   ],
   "source": [
    "comida = float(input(\"Escribe el total de la comida: \"))\n",
    "tip = int(input(\"Escribe el porcentaje de propina: \"))\n",
    "\n",
    "tip_amt = comida * tip/100\n",
    "total = comida + tip_amt\n",
    "\n",
    "print(f\"El total de tu comida fue ${comida} y la propina fue de ${tip_amt}.\")"
   ]
  },
  {
   "cell_type": "markdown",
   "id": "31f006ba-e1ce-4d55-b11c-de0826c479d3",
   "metadata": {},
   "source": [
    "# 10.Email slicer"
   ]
  },
  {
   "cell_type": "code",
   "execution_count": 19,
   "id": "4da79dae-4ff7-4230-ac5b-14dd70a4ee75",
   "metadata": {},
   "outputs": [
    {
     "name": "stdin",
     "output_type": "stream",
     "text": [
      "Escribe tu correo electronico:  gerardokim@gmail.com\n"
     ]
    },
    {
     "name": "stdout",
     "output_type": "stream",
     "text": [
      "Tu usuario es 'gerardokim' y el nombre de tu dominio es 'gmail.com'\n"
     ]
    }
   ],
   "source": [
    "email = input(\"Escribe tu correo electronico: \").strip()\n",
    "\n",
    "user_name = email[:email.index(\"@\")]\n",
    "\n",
    "domain_name = email[email.index(\"@\")+1:]\n",
    "\n",
    "resultado = \"Tu usuario es '{}' y el nombre de tu dominio es '{}'\".format(user_name,domain_name)\n",
    "\n",
    "print(resultado)"
   ]
  },
  {
   "cell_type": "markdown",
   "id": "82742ca0-1bd6-462e-849c-be8ef99ab81a",
   "metadata": {},
   "source": [
    "# 11.Lyrics generator"
   ]
  },
  {
   "cell_type": "code",
   "execution_count": 20,
   "id": "6a8b99b8-ca55-4dc5-ba26-70353baa9574",
   "metadata": {},
   "outputs": [
    {
     "name": "stdout",
     "output_type": "stream",
     "text": [
      "Bienvenido, por favor selecciona una cancion de este top 10:\n",
      " 1. Monster by Lady Gaga\n",
      " 2. Red(Taylor's Version) by Taylor Swift \n",
      " 3. Wildest Dreams(Taylor's Version) by Taylor Swift\n",
      " 4. 911 by Lady Gaga \n",
      " 5. Anti-Hero by Tayor Swift \n",
      " 6. Into you by Ariana Grande\n",
      " 7. Replay by Lady Gaga \n",
      " 8. the 1 by Taylor Swift\n",
      " 9. Delicate by Taylor Swift \n",
      " 10. Bad Romance by Lady Gaga\n"
     ]
    },
    {
     "name": "stdin",
     "output_type": "stream",
     "text": [
      "Favor de ingresar el numero de la cancion que quiera seleccionar: 5\n"
     ]
    },
    {
     "name": "stdout",
     "output_type": "stream",
     "text": [
      "\n",
      "Seleccionaste Anti-Hero by Tayor Swift\n",
      "\n",
      "--------Anti-Hero by Tayor Swift--------\n",
      "It's me, hi, I'm the problem, it's me \n",
      "At tea time, everybody agrees\n",
      "I'll stare directly at the sun but never in the mirror \n",
      "It must be exhausting, always rooting for the anti-hero\n"
     ]
    }
   ],
   "source": [
    "print(\"Bienvenido, por favor selecciona una cancion de este top 10:\\n 1. Monster by Lady Gaga\"\n",
    "\"\\n 2. Red(Taylor's Version) by Taylor Swift \\n 3. Wildest Dreams(Taylor's Version) by Taylor Swift\"+ \n",
    "\"\\n 4. 911 by Lady Gaga \\n 5. Anti-Hero by Tayor Swift \\n 6. Into you by Ariana Grande\" +\n",
    "\"\\n 7. Replay by Lady Gaga \\n 8. the 1 by Taylor Swift\" +\n",
    "\"\\n 9. Delicate by Taylor Swift \\n 10. Bad Romance by Lady Gaga\")\n",
    "numero = int(input(\"Favor de ingresar el numero de la cancion que quiera seleccionar:\"))\n",
    "if numero == 1:\n",
    "    print(\"\\nSeleccionaste Monster by Lady Gaga\\n\")\n",
    "    print(\"--------Monster by Lady Gaga--------\\nI asked my girlfriend if she'd seen you 'round before\"+\n",
    "    \"\\nShe mumbled something while we got down on the floor, baby\"+\n",
    "    \"\\nWe might've fucked, not really sure, don't quite recall\"+\n",
    "    \"But something tells me that I've seen him, yeah, That boy is a monster\")\n",
    "elif numero == 2:\n",
    "    print(\"\\nSeleccionaste Red(Taylor's Version) by Taylor Swift\\n\")\n",
    "    print(\"--------Red(Taylor's Version) by Taylor Swift--------\\nLosing him was blue, like I'd never known\"+\n",
    "    \"\\nMissing him was dark gray, all alone\\nForgetting him was like trying to know somebody you never met \"+\n",
    "    \"\\nBut loving him was red\")\n",
    "elif numero == 3:\n",
    "    print(\"\\nSeleccionaste Wildest Dreams(Taylor's Version) by Taylor Swift\\n\")\n",
    "    print(\"--------Wildest Dreams(Taylor's Version) by Taylor Swift--------\\nRed lips and rosy cheeks\"+\n",
    "    \"\\nSay you'll see me again\\nEven if it's just in your wildest dreams, ah-ah, ha\")\n",
    "elif numero == 4:\n",
    "    print(\"\\nSeleccionaste 911 by Lady Gaga\\n\")\n",
    "    print(\"--------911 by Lady Gaga--------\\nTurnin' up emotional faders\\nKeep repeating self-hating phrases\"+\n",
    "    \"\\nI have heard enough of these voices\\nAlmost like I have no choice\\nThis is biological stasis \"+\n",
    "    \"\\nMy mood's shifting to manic places\\nWish I laughed and kept the good friendships\" +\n",
    "    \"\\nWatch life, here I go again\")\n",
    "elif numero == 5:\n",
    "    print(\"\\nSeleccionaste Anti-Hero by Tayor Swift\\n\")\n",
    "    print(\"--------Anti-Hero by Tayor Swift--------\\nIt's me, hi, I'm the problem, it's me \"+\n",
    "    \"\\nAt tea time, everybody agrees\\nI'll stare directly at the sun but never in the mirror \"+\n",
    "    \"\\nIt must be exhausting, always rooting for the anti-hero\")\n",
    "elif numero == 6:\n",
    "    print(\"\\nSeleccionaste Into you by Ariana Grande\\n\")\n",
    "    print(\"--------Into you by Ariana Grande--------\\nI'm so into you\\nI can barely breathe \"+\n",
    "    \"\\nAnd all I wanna do, Is to fall in deep\")\n",
    "elif numero == 7:\n",
    "    print(\"\\nSeleccionaste Replay by Lady Gaga\\n\")\n",
    "    print(\"--------Replay by Lady Gaga--------\\nI don't know what to do, you don't know what to say \"+ \n",
    "    \"\\nThe scars on my mind are on replay, r-replay\\nThe monster inside you is torturing me\"+\n",
    "    \"\\nThe scars on my mind are on replay, r-replay-ay-ay\")\n",
    "elif numero == 8:\n",
    "    print(\"\\nSeleccionaste the 1 by Taylor Swift\\n\")\n",
    "    print(\"--------the 1 by Taylor Swift--------\\n I'm doing good, I'm on some new shit \"+\n",
    "    \"\\nBeen saying yes instead of no\\nI thought I saw you at the bus stop, I didn't though \")\n",
    "elif numero == 9:\n",
    "    print(\"\\nSeleccionaste Delicate by Taylor Swift\\n\")\n",
    "    print(\"--------Delicate by Taylor Swift--------\\nIs it cool that I said all that?\" +\n",
    "    \"\\nIs it chill that you're in my head?\\n'Cause I know that it's delicate (Delicate) \"+\n",
    "    \"\\nYeah, I want you\")\n",
    "elif numero == 10:\n",
    "    print(\"\\nSeleccionaste Bad Romance by Lady Gaga\\n\")\n",
    "    print(\"--------Bad Romance by Lady Gaga--------\\nI want your love, and I want your revenge \"+\n",
    "    \"\\nYou and me could write a bad romance\\nI want your love and all your lover's revenge\"+\n",
    "    \"\\nYou and me could write a bad romance\")\n",
    "else:\n",
    "    print(\"Ingrese un numero de la lista\")"
   ]
  }
 ],
 "metadata": {
  "kernelspec": {
   "display_name": "Python 3 (ipykernel)",
   "language": "python",
   "name": "python3"
  },
  "language_info": {
   "codemirror_mode": {
    "name": "ipython",
    "version": 3
   },
   "file_extension": ".py",
   "mimetype": "text/x-python",
   "name": "python",
   "nbconvert_exporter": "python",
   "pygments_lexer": "ipython3",
   "version": "3.10.8"
  },
  "vscode": {
   "interpreter": {
    "hash": "1ed91dfe9bd958efb5d6baa571ff3a365eb9cebb00741a1b726765c15818a969"
   }
  }
 },
 "nbformat": 4,
 "nbformat_minor": 5
}
